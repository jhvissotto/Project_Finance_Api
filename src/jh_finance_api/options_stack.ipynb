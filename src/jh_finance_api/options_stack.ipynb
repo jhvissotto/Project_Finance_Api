{
 "cells": [
  {
   "cell_type": "code",
   "execution_count": null,
   "id": "af34c42f",
   "metadata": {},
   "outputs": [],
   "source": [
    "import warnings\n",
    "from typing import Literal as Lit\n",
    "import pandas as pd\n",
    "\n",
    "warnings.filterwarnings('ignore')"
   ]
  },
  {
   "cell_type": "code",
   "execution_count": 5,
   "id": "7aa6afc0",
   "metadata": {},
   "outputs": [],
   "source": [
    "endpoint = lambda TICKER: f'https://project-finance-backend.onrender.com/options-stack/{TICKER}'"
   ]
  },
  {
   "cell_type": "code",
   "execution_count": null,
   "id": "edb53d19",
   "metadata": {},
   "outputs": [],
   "source": [
    "def get(TICKER='MSFT'):\n",
    "    return pd.read_json(endpoint(TICKER))\n",
    "\n",
    "get()"
   ]
  },
  {
   "cell_type": "code",
   "execution_count": null,
   "id": "190c31bd",
   "metadata": {},
   "outputs": [],
   "source": [
    "sample_req = 'https://project-finance-backend.onrender.com/options-stack/MSFT'\n",
    "sample_res = ..."
   ]
  }
 ],
 "metadata": {
  "kernelspec": {
   "display_name": "base",
   "language": "python",
   "name": "python3"
  },
  "language_info": {
   "codemirror_mode": {
    "name": "ipython",
    "version": 3
   },
   "file_extension": ".py",
   "mimetype": "text/x-python",
   "name": "python",
   "nbconvert_exporter": "python",
   "pygments_lexer": "ipython3",
   "version": "3.11.11"
  }
 },
 "nbformat": 4,
 "nbformat_minor": 5
}
